{
 "cells": [
  {
   "cell_type": "code",
   "execution_count": null,
   "id": "f4a7f270",
   "metadata": {},
   "outputs": [],
   "source": [
    "from segmentation.DDRNet_23_slim import *\n",
    "import torch\n",
    "import torchvision\n",
    "import numpy as np\n",
    "import matplotlib.pyplot as plt\n",
    "from PIL import Image\n",
    "import cv2\n",
    "\n",
    "def probility_switch(v):\n",
    "    x = np.random.random()\n",
    "    return x<v"
   ]
  },
  {
   "cell_type": "code",
   "execution_count": null,
   "id": "1e583453",
   "metadata": {},
   "outputs": [],
   "source": [
    "img_path = \"aachen_000003_000019_leftImg8bit.png\"\n",
    "img = Image.open(img_path)\n",
    "origin_img = np.array(img) #origin img\n",
    "np.shape(origin_img)"
   ]
  },
  {
   "cell_type": "code",
   "execution_count": null,
   "id": "f21775ed",
   "metadata": {},
   "outputs": [],
   "source": [
    "gray_img = cv2.cvtColor(origin_img,cv2.COLOR_BGR2GRAY)\n",
    "Image.fromarray(gray_img).save(\"gray.png\")\n",
    "gray_img = gray_img / 255"
   ]
  },
  {
   "cell_type": "code",
   "execution_count": null,
   "id": "8b9acdb6",
   "metadata": {},
   "outputs": [],
   "source": [
    "kernel = np.array([[0,1/8,0],[1/8,1/2,1/8],[0,1/8,0]]) "
   ]
  }
 ],
 "metadata": {
  "kernelspec": {
   "display_name": "Python 3 (ipykernel)",
   "language": "python",
   "name": "python3"
  },
  "language_info": {
   "codemirror_mode": {
    "name": "ipython",
    "version": 3
   },
   "file_extension": ".py",
   "mimetype": "text/x-python",
   "name": "python",
   "nbconvert_exporter": "python",
   "pygments_lexer": "ipython3",
   "version": "3.11.4"
  }
 },
 "nbformat": 4,
 "nbformat_minor": 5
}
